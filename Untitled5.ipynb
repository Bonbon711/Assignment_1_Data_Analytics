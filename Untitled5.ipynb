{
  "metadata": {
    "kernelspec": {
      "name": "python",
      "display_name": "Python (Pyodide)",
      "language": "python"
    },
    "language_info": {
      "codemirror_mode": {
        "name": "python",
        "version": 3
      },
      "file_extension": ".py",
      "mimetype": "text/x-python",
      "name": "python",
      "nbconvert_exporter": "python",
      "pygments_lexer": "ipython3",
      "version": "3.8"
    }
  },
  "nbformat_minor": 5,
  "nbformat": 4,
  "cells": [
    {
      "id": "9af07685-9919-41c7-a097-c7d324b2496f",
      "cell_type": "code",
      "source": "import numpy as np\nimport pandas as pd\nfrom scipy.spatial.distance import mahalanobis\nfrom sklearn.preprocessing import StandardScaler\nimport warnings\nimport matplotlib.pyplot as plt\n\n%matplotlib inline\n",
      "metadata": {
        "trusted": true
      },
      "outputs": [],
      "execution_count": null
    },
    {
      "id": "f4dc8601-3e54-44b7-b170-5d5c65c1935a",
      "cell_type": "code",
      "source": "from typing import List, Tuple, Optional\n\nclass RiskSetMatcher:\n    \"\"\"\n    A class to perform Risk Set Matching for observational studies.\n    \"\"\"\n\n    def __init__(self, \n                 time_column: str = 'time',\n                 treatment_column: str = 'treatment',\n                 patient_id_column: str = 'patient_id',\n                 covariate_columns: Optional[List[str]] = None):\n        \"\"\"\n        Initialize the RiskSetMatcher.\n        \"\"\"\n        self.time_column = time_column\n        self.treatment_column = treatment_column\n        self.patient_id_column = patient_id_column\n        self.covariate_columns = covariate_columns\n        self.scaler = StandardScaler()\n        self.cov_inv = None\n\n    def fit(self, data: pd.DataFrame) -> None:\n        \"\"\"\n        Fit the matcher to the data by computing the covariance matrix and scaling parameters.\n        \"\"\"\n        if self.covariate_columns is None:\n            # Automatically detect numeric columns if not specified\n            self.covariate_columns = data.select_dtypes(include=[np.number]).columns.tolist()\n            self.covariate_columns = [col for col in self.covariate_columns \n                                      if col not in [self.time_column, self.treatment_column, self.patient_id_column]]\n                \n        # Standardize covariates\n        self.scaler.fit(data[self.covariate_columns])\n\n        # Calculate inverse covariance matrix for Mahalanobis distance\n        scaled_data = self.scaler.transform(data[self.covariate_columns])\n        cov_matrix = np.cov(scaled_data, rowvar=False)\n        try:\n            self.cov_inv = np.linalg.inv(cov_matrix)\n        except np.linalg.LinAlgError:\n            warnings.warn(\"Covariance matrix is singular. Using pseudoinverse instead.\")\n            self.cov_inv = np.linalg.pinv(cov_matrix)\n\n    def _calculate_distances(self, treated_patient: pd.Series, potential_controls: pd.DataFrame) -> np.ndarray:\n        \"\"\"\n        Calculate Mahalanobis distances between treated patient and potential controls.\n        \"\"\"\n        # Convert treated_patient to DataFrame with correct feature names\n        treated_covs = self.scaler.transform(\n            treated_patient[self.covariate_columns].to_frame().T\n        )\n\n        control_covs = self.scaler.transform(\n            potential_controls[self.covariate_columns]\n        )\n\n        diff = control_covs - treated_covs\n        distances = np.sqrt(np.sum(diff.dot(self.cov_inv) * diff, axis=1))\n        return distances\n\n    def match(self, data: pd.DataFrame, caliper: Optional[float] = None) -> List[Tuple]:\n        \"\"\"\n        Perform risk set matching on the data.\n        \"\"\"\n        if self.cov_inv is None:\n            self.fit(data)\n\n        matched_pairs = []\n        # Commented out used_controls to allow matching with replacement\n        # used_controls = set()\n\n        # Sort by time to ensure proper risk set construction\n        data = data.sort_values(self.time_column)\n\n        treated_patients = data[data[self.treatment_column] == 1]\n\n        for _, treated in treated_patients.iterrows():\n            # Find eligible controls (not yet treated)\n            potential_controls = data[\n                (data[self.treatment_column] == 0) &\n                (data[self.time_column] <= treated[self.time_column])\n                # & (~data[self.patient_id_column].isin(used_controls))  # Allow controls to be reused\n            ]\n\n            if len(potential_controls) == 0:\n                warnings.warn(f\"No eligible controls found for treated patient {treated[self.patient_id_column]}\")\n                continue\n\n            # Calculate distances\n            distances = self._calculate_distances(treated, potential_controls)\n\n            # Apply caliper if specified\n            if caliper is not None:\n                valid_matches = distances <= caliper\n                if not any(valid_matches):\n                    warnings.warn(f\"No controls within caliper for treated patient {treated[self.patient_id_column]}\")\n                    continue\n                potential_controls = potential_controls.iloc[valid_matches]\n                distances = distances[valid_matches]\n\n            # Find best match\n            best_match_idx = np.argmin(distances)\n            matched_control = potential_controls.iloc[best_match_idx]\n\n            matched_pairs.append((\n                treated[self.patient_id_column],\n                matched_control[self.patient_id_column],\n                distances[best_match_idx]\n            ))\n\n            # Allowing controls to be matched multiple times\n            # used_controls.add(matched_control[self.patient_id_column])\n\n        return matched_pairs\n\n    def assess_balance(self, data: pd.DataFrame, matched_pairs: List[Tuple]) -> pd.DataFrame:\n        \"\"\"\n        Assess covariate balance between matched treated and control groups.\n        \"\"\"\n        treated_ids = [pair[0] for pair in matched_pairs]\n        control_ids = [pair[1] for pair in matched_pairs]\n\n        treated_data = data[data[self.patient_id_column].isin(treated_ids)]\n        control_data = data[data[self.patient_id_column].isin(control_ids)]\n\n        balance_stats = []\n\n        for col in self.covariate_columns:\n            treated_mean = treated_data[col].mean()\n            treated_std = treated_data[col].std()\n            control_mean = control_data[col].mean()\n            control_std = control_data[col].std()\n\n            # Compute standardized mean difference\n            pooled_std = np.sqrt((treated_std ** 2 + control_std ** 2) / 2)\n            std_diff = (treated_mean - control_mean) / pooled_std\n\n            balance_stats.append({\n                'covariate': col,\n                'treated_mean': treated_mean,\n                'control_mean': control_mean,\n                'std_diff': std_diff,\n                'treated_std': treated_std,\n                'control_std': control_std\n            })\n\n        return pd.DataFrame(balance_stats)\n",
      "metadata": {
        "trusted": true
      },
      "outputs": [],
      "execution_count": null
    },
    {
      "id": "9dfbd909-62a3-4852-9f25-6e4a0bff9a69",
      "cell_type": "code",
      "source": "",
      "metadata": {
        "trusted": true
      },
      "outputs": [],
      "execution_count": null
    }
  ]
}